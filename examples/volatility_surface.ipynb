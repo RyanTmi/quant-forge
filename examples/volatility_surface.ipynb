{
 "cells": [
  {
   "cell_type": "markdown",
   "metadata": {},
   "source": [
    "# Quant Forge: Basics"
   ]
  },
  {
   "cell_type": "markdown",
   "metadata": {},
   "source": [
    "Ensure that `quant-forge` is installed, **after running the following cell please restart the kernel.**"
   ]
  },
  {
   "cell_type": "code",
   "execution_count": 1,
   "metadata": {},
   "outputs": [
    {
     "name": "stdout",
     "output_type": "stream",
     "text": [
      "Obtaining file:///Users/ryan/Developer/Projects/quant-forge\n",
      "  Installing build dependencies ... \u001b[?25ldone\n",
      "\u001b[?25h  Checking if build backend supports build_editable ... \u001b[?25ldone\n",
      "\u001b[?25h  Getting requirements to build editable ... \u001b[?25ldone\n",
      "\u001b[?25h  Preparing editable metadata (pyproject.toml) ... \u001b[?25ldone\n",
      "\u001b[?25hRequirement already satisfied: numpy in /Users/ryan/Developer/Projects/quant-forge/.venv/lib/python3.13/site-packages (from quant-forge==0.1) (2.2.4)\n",
      "Requirement already satisfied: scipy in /Users/ryan/Developer/Projects/quant-forge/.venv/lib/python3.13/site-packages (from quant-forge==0.1) (1.15.2)\n",
      "Requirement already satisfied: pandas in /Users/ryan/Developer/Projects/quant-forge/.venv/lib/python3.13/site-packages (from quant-forge==0.1) (2.2.3)\n",
      "Requirement already satisfied: matplotlib in /Users/ryan/Developer/Projects/quant-forge/.venv/lib/python3.13/site-packages (from quant-forge==0.1) (3.10.1)\n",
      "Requirement already satisfied: yfinance in /Users/ryan/Developer/Projects/quant-forge/.venv/lib/python3.13/site-packages (from quant-forge==0.1) (0.2.55)\n",
      "Requirement already satisfied: contourpy>=1.0.1 in /Users/ryan/Developer/Projects/quant-forge/.venv/lib/python3.13/site-packages (from matplotlib->quant-forge==0.1) (1.3.1)\n",
      "Requirement already satisfied: cycler>=0.10 in /Users/ryan/Developer/Projects/quant-forge/.venv/lib/python3.13/site-packages (from matplotlib->quant-forge==0.1) (0.12.1)\n",
      "Requirement already satisfied: fonttools>=4.22.0 in /Users/ryan/Developer/Projects/quant-forge/.venv/lib/python3.13/site-packages (from matplotlib->quant-forge==0.1) (4.56.0)\n",
      "Requirement already satisfied: kiwisolver>=1.3.1 in /Users/ryan/Developer/Projects/quant-forge/.venv/lib/python3.13/site-packages (from matplotlib->quant-forge==0.1) (1.4.8)\n",
      "Requirement already satisfied: packaging>=20.0 in /Users/ryan/Developer/Projects/quant-forge/.venv/lib/python3.13/site-packages (from matplotlib->quant-forge==0.1) (24.2)\n",
      "Requirement already satisfied: pillow>=8 in /Users/ryan/Developer/Projects/quant-forge/.venv/lib/python3.13/site-packages (from matplotlib->quant-forge==0.1) (11.1.0)\n",
      "Requirement already satisfied: pyparsing>=2.3.1 in /Users/ryan/Developer/Projects/quant-forge/.venv/lib/python3.13/site-packages (from matplotlib->quant-forge==0.1) (3.2.1)\n",
      "Requirement already satisfied: python-dateutil>=2.7 in /Users/ryan/Developer/Projects/quant-forge/.venv/lib/python3.13/site-packages (from matplotlib->quant-forge==0.1) (2.9.0.post0)\n",
      "Requirement already satisfied: pytz>=2020.1 in /Users/ryan/Developer/Projects/quant-forge/.venv/lib/python3.13/site-packages (from pandas->quant-forge==0.1) (2025.1)\n",
      "Requirement already satisfied: tzdata>=2022.7 in /Users/ryan/Developer/Projects/quant-forge/.venv/lib/python3.13/site-packages (from pandas->quant-forge==0.1) (2025.1)\n",
      "Requirement already satisfied: requests>=2.31 in /Users/ryan/Developer/Projects/quant-forge/.venv/lib/python3.13/site-packages (from yfinance->quant-forge==0.1) (2.32.3)\n",
      "Requirement already satisfied: multitasking>=0.0.7 in /Users/ryan/Developer/Projects/quant-forge/.venv/lib/python3.13/site-packages (from yfinance->quant-forge==0.1) (0.0.11)\n",
      "Requirement already satisfied: platformdirs>=2.0.0 in /Users/ryan/Developer/Projects/quant-forge/.venv/lib/python3.13/site-packages (from yfinance->quant-forge==0.1) (4.3.7)\n",
      "Requirement already satisfied: frozendict>=2.3.4 in /Users/ryan/Developer/Projects/quant-forge/.venv/lib/python3.13/site-packages (from yfinance->quant-forge==0.1) (2.4.6)\n",
      "Requirement already satisfied: peewee>=3.16.2 in /Users/ryan/Developer/Projects/quant-forge/.venv/lib/python3.13/site-packages (from yfinance->quant-forge==0.1) (3.17.9)\n",
      "Requirement already satisfied: beautifulsoup4>=4.11.1 in /Users/ryan/Developer/Projects/quant-forge/.venv/lib/python3.13/site-packages (from yfinance->quant-forge==0.1) (4.13.3)\n",
      "Requirement already satisfied: soupsieve>1.2 in /Users/ryan/Developer/Projects/quant-forge/.venv/lib/python3.13/site-packages (from beautifulsoup4>=4.11.1->yfinance->quant-forge==0.1) (2.6)\n",
      "Requirement already satisfied: typing-extensions>=4.0.0 in /Users/ryan/Developer/Projects/quant-forge/.venv/lib/python3.13/site-packages (from beautifulsoup4>=4.11.1->yfinance->quant-forge==0.1) (4.12.2)\n",
      "Requirement already satisfied: six>=1.5 in /Users/ryan/Developer/Projects/quant-forge/.venv/lib/python3.13/site-packages (from python-dateutil>=2.7->matplotlib->quant-forge==0.1) (1.17.0)\n",
      "Requirement already satisfied: charset-normalizer<4,>=2 in /Users/ryan/Developer/Projects/quant-forge/.venv/lib/python3.13/site-packages (from requests>=2.31->yfinance->quant-forge==0.1) (3.4.1)\n",
      "Requirement already satisfied: idna<4,>=2.5 in /Users/ryan/Developer/Projects/quant-forge/.venv/lib/python3.13/site-packages (from requests>=2.31->yfinance->quant-forge==0.1) (3.10)\n",
      "Requirement already satisfied: urllib3<3,>=1.21.1 in /Users/ryan/Developer/Projects/quant-forge/.venv/lib/python3.13/site-packages (from requests>=2.31->yfinance->quant-forge==0.1) (2.3.0)\n",
      "Requirement already satisfied: certifi>=2017.4.17 in /Users/ryan/Developer/Projects/quant-forge/.venv/lib/python3.13/site-packages (from requests>=2.31->yfinance->quant-forge==0.1) (2025.1.31)\n",
      "Building wheels for collected packages: quant-forge\n",
      "  Building editable for quant-forge (pyproject.toml) ... \u001b[?25ldone\n",
      "\u001b[?25h  Created wheel for quant-forge: filename=quant_forge-0.1-0.editable-py3-none-any.whl size=3605 sha256=25d7a8c27cf008dcfc78eeae3b9476dfa1cf1e7c1416519788ed2cde960dfcc6\n",
      "  Stored in directory: /private/var/folders/p4/mbr166wd3zq78yjs07dgt9bc0000gn/T/pip-ephem-wheel-cache-gh0d5vxd/wheels/16/71/24/debbbb5e89f2ca6baf6a344f91c7b30bb6d1ab8ea408deaf2d\n",
      "Successfully built quant-forge\n",
      "Installing collected packages: quant-forge\n",
      "  Attempting uninstall: quant-forge\n",
      "    Found existing installation: quant-forge 0.1\n",
      "    Uninstalling quant-forge-0.1:\n",
      "      Successfully uninstalled quant-forge-0.1\n",
      "Successfully installed quant-forge-0.1\n",
      "Note: you may need to restart the kernel to use updated packages.\n"
     ]
    }
   ],
   "source": [
    "%pip install -e .."
   ]
  },
  {
   "cell_type": "code",
   "execution_count": 2,
   "metadata": {},
   "outputs": [],
   "source": [
    "from quant_forge.market import *"
   ]
  },
  {
   "cell_type": "markdown",
   "metadata": {},
   "source": [
    "Fetching stock and options data for AAPL. Contains the implied volality that `yfinance` gives."
   ]
  },
  {
   "cell_type": "code",
   "execution_count": 8,
   "metadata": {},
   "outputs": [],
   "source": [
    "symbol = \"AAPL\"\n",
    "\n",
    "stock, spot_price = get_stock_data(symbol)\n",
    "calls, puts = get_options_data(stock)"
   ]
  },
  {
   "cell_type": "code",
   "execution_count": 9,
   "metadata": {},
   "outputs": [
    {
     "data": {
      "text/html": [
       "<div>\n",
       "<style scoped>\n",
       "    .dataframe tbody tr th:only-of-type {\n",
       "        vertical-align: middle;\n",
       "    }\n",
       "\n",
       "    .dataframe tbody tr th {\n",
       "        vertical-align: top;\n",
       "    }\n",
       "\n",
       "    .dataframe thead th {\n",
       "        text-align: right;\n",
       "    }\n",
       "</style>\n",
       "<table border=\"1\" class=\"dataframe\">\n",
       "  <thead>\n",
       "    <tr style=\"text-align: right;\">\n",
       "      <th></th>\n",
       "      <th>Symbol</th>\n",
       "      <th>Expiration</th>\n",
       "      <th>Price</th>\n",
       "      <th>Strike</th>\n",
       "      <th>Volume</th>\n",
       "      <th>OpenInterest</th>\n",
       "      <th>ImpliedVolatility</th>\n",
       "      <th>Type</th>\n",
       "    </tr>\n",
       "  </thead>\n",
       "  <tbody>\n",
       "    <tr>\n",
       "      <th>0</th>\n",
       "      <td>AAPL</td>\n",
       "      <td>2025-04-25</td>\n",
       "      <td>60.55</td>\n",
       "      <td>160.0</td>\n",
       "      <td>6.0</td>\n",
       "      <td>9</td>\n",
       "      <td>0.732180</td>\n",
       "      <td>Call</td>\n",
       "    </tr>\n",
       "    <tr>\n",
       "      <th>1</th>\n",
       "      <td>AAPL</td>\n",
       "      <td>2025-04-25</td>\n",
       "      <td>59.25</td>\n",
       "      <td>165.0</td>\n",
       "      <td>2.0</td>\n",
       "      <td>8529</td>\n",
       "      <td>0.632084</td>\n",
       "      <td>Call</td>\n",
       "    </tr>\n",
       "    <tr>\n",
       "      <th>2</th>\n",
       "      <td>AAPL</td>\n",
       "      <td>2025-04-25</td>\n",
       "      <td>54.26</td>\n",
       "      <td>170.0</td>\n",
       "      <td>5.0</td>\n",
       "      <td>10</td>\n",
       "      <td>0.586430</td>\n",
       "      <td>Call</td>\n",
       "    </tr>\n",
       "    <tr>\n",
       "      <th>3</th>\n",
       "      <td>AAPL</td>\n",
       "      <td>2025-04-25</td>\n",
       "      <td>47.77</td>\n",
       "      <td>175.0</td>\n",
       "      <td>2.0</td>\n",
       "      <td>23</td>\n",
       "      <td>0.522466</td>\n",
       "      <td>Call</td>\n",
       "    </tr>\n",
       "    <tr>\n",
       "      <th>4</th>\n",
       "      <td>AAPL</td>\n",
       "      <td>2025-04-25</td>\n",
       "      <td>44.20</td>\n",
       "      <td>180.0</td>\n",
       "      <td>13.0</td>\n",
       "      <td>24</td>\n",
       "      <td>0.509526</td>\n",
       "      <td>Call</td>\n",
       "    </tr>\n",
       "    <tr>\n",
       "      <th>...</th>\n",
       "      <td>...</td>\n",
       "      <td>...</td>\n",
       "      <td>...</td>\n",
       "      <td>...</td>\n",
       "      <td>...</td>\n",
       "      <td>...</td>\n",
       "      <td>...</td>\n",
       "      <td>...</td>\n",
       "    </tr>\n",
       "    <tr>\n",
       "      <th>386</th>\n",
       "      <td>AAPL</td>\n",
       "      <td>2027-12-17</td>\n",
       "      <td>29.76</td>\n",
       "      <td>265.0</td>\n",
       "      <td>25.0</td>\n",
       "      <td>646</td>\n",
       "      <td>0.308021</td>\n",
       "      <td>Call</td>\n",
       "    </tr>\n",
       "    <tr>\n",
       "      <th>387</th>\n",
       "      <td>AAPL</td>\n",
       "      <td>2027-12-17</td>\n",
       "      <td>28.85</td>\n",
       "      <td>270.0</td>\n",
       "      <td>9.0</td>\n",
       "      <td>1541</td>\n",
       "      <td>0.304374</td>\n",
       "      <td>Call</td>\n",
       "    </tr>\n",
       "    <tr>\n",
       "      <th>388</th>\n",
       "      <td>AAPL</td>\n",
       "      <td>2027-12-17</td>\n",
       "      <td>27.59</td>\n",
       "      <td>275.0</td>\n",
       "      <td>36.0</td>\n",
       "      <td>59</td>\n",
       "      <td>0.304466</td>\n",
       "      <td>Call</td>\n",
       "    </tr>\n",
       "    <tr>\n",
       "      <th>389</th>\n",
       "      <td>AAPL</td>\n",
       "      <td>2027-12-17</td>\n",
       "      <td>24.65</td>\n",
       "      <td>280.0</td>\n",
       "      <td>4.0</td>\n",
       "      <td>536</td>\n",
       "      <td>0.299568</td>\n",
       "      <td>Call</td>\n",
       "    </tr>\n",
       "    <tr>\n",
       "      <th>390</th>\n",
       "      <td>AAPL</td>\n",
       "      <td>2027-12-17</td>\n",
       "      <td>23.76</td>\n",
       "      <td>285.0</td>\n",
       "      <td>9.0</td>\n",
       "      <td>25</td>\n",
       "      <td>0.300956</td>\n",
       "      <td>Call</td>\n",
       "    </tr>\n",
       "  </tbody>\n",
       "</table>\n",
       "<p>391 rows × 8 columns</p>\n",
       "</div>"
      ],
      "text/plain": [
       "    Symbol  Expiration  Price  Strike  Volume  OpenInterest  \\\n",
       "0     AAPL  2025-04-25  60.55   160.0     6.0             9   \n",
       "1     AAPL  2025-04-25  59.25   165.0     2.0          8529   \n",
       "2     AAPL  2025-04-25  54.26   170.0     5.0            10   \n",
       "3     AAPL  2025-04-25  47.77   175.0     2.0            23   \n",
       "4     AAPL  2025-04-25  44.20   180.0    13.0            24   \n",
       "..     ...         ...    ...     ...     ...           ...   \n",
       "386   AAPL  2027-12-17  29.76   265.0    25.0           646   \n",
       "387   AAPL  2027-12-17  28.85   270.0     9.0          1541   \n",
       "388   AAPL  2027-12-17  27.59   275.0    36.0            59   \n",
       "389   AAPL  2027-12-17  24.65   280.0     4.0           536   \n",
       "390   AAPL  2027-12-17  23.76   285.0     9.0            25   \n",
       "\n",
       "     ImpliedVolatility  Type  \n",
       "0             0.732180  Call  \n",
       "1             0.632084  Call  \n",
       "2             0.586430  Call  \n",
       "3             0.522466  Call  \n",
       "4             0.509526  Call  \n",
       "..                 ...   ...  \n",
       "386           0.308021  Call  \n",
       "387           0.304374  Call  \n",
       "388           0.304466  Call  \n",
       "389           0.299568  Call  \n",
       "390           0.300956  Call  \n",
       "\n",
       "[391 rows x 8 columns]"
      ]
     },
     "execution_count": 9,
     "metadata": {},
     "output_type": "execute_result"
    }
   ],
   "source": [
    "min_strike_price = spot_price * 70 / 100\n",
    "max_strike_price = spot_price * 130 / 100\n",
    "\n",
    "calls = filter_options_data(calls, min_strike_price, max_strike_price)\n",
    "calls"
   ]
  },
  {
   "cell_type": "markdown",
   "metadata": {},
   "source": [
    "Compute the implied volatility for each calls using `quant-forge` algorithms. The function `compute_implied_volatility` modify the original `DataFrame`."
   ]
  },
  {
   "cell_type": "code",
   "execution_count": 12,
   "metadata": {},
   "outputs": [
    {
     "data": {
      "text/html": [
       "<div>\n",
       "<style scoped>\n",
       "    .dataframe tbody tr th:only-of-type {\n",
       "        vertical-align: middle;\n",
       "    }\n",
       "\n",
       "    .dataframe tbody tr th {\n",
       "        vertical-align: top;\n",
       "    }\n",
       "\n",
       "    .dataframe thead th {\n",
       "        text-align: right;\n",
       "    }\n",
       "</style>\n",
       "<table border=\"1\" class=\"dataframe\">\n",
       "  <thead>\n",
       "    <tr style=\"text-align: right;\">\n",
       "      <th></th>\n",
       "      <th>Symbol</th>\n",
       "      <th>Expiration</th>\n",
       "      <th>Price</th>\n",
       "      <th>Strike</th>\n",
       "      <th>Volume</th>\n",
       "      <th>OpenInterest</th>\n",
       "      <th>ImpliedVolatility</th>\n",
       "      <th>Type</th>\n",
       "    </tr>\n",
       "  </thead>\n",
       "  <tbody>\n",
       "    <tr>\n",
       "      <th>0</th>\n",
       "      <td>AAPL</td>\n",
       "      <td>2025-04-25</td>\n",
       "      <td>60.55</td>\n",
       "      <td>160.0</td>\n",
       "      <td>6.0</td>\n",
       "      <td>9</td>\n",
       "      <td>0.732180</td>\n",
       "      <td>Call</td>\n",
       "    </tr>\n",
       "    <tr>\n",
       "      <th>1</th>\n",
       "      <td>AAPL</td>\n",
       "      <td>2025-04-25</td>\n",
       "      <td>59.25</td>\n",
       "      <td>165.0</td>\n",
       "      <td>2.0</td>\n",
       "      <td>8529</td>\n",
       "      <td>0.632084</td>\n",
       "      <td>Call</td>\n",
       "    </tr>\n",
       "    <tr>\n",
       "      <th>2</th>\n",
       "      <td>AAPL</td>\n",
       "      <td>2025-04-25</td>\n",
       "      <td>54.26</td>\n",
       "      <td>170.0</td>\n",
       "      <td>5.0</td>\n",
       "      <td>10</td>\n",
       "      <td>0.586430</td>\n",
       "      <td>Call</td>\n",
       "    </tr>\n",
       "    <tr>\n",
       "      <th>3</th>\n",
       "      <td>AAPL</td>\n",
       "      <td>2025-04-25</td>\n",
       "      <td>47.77</td>\n",
       "      <td>175.0</td>\n",
       "      <td>2.0</td>\n",
       "      <td>23</td>\n",
       "      <td>0.522466</td>\n",
       "      <td>Call</td>\n",
       "    </tr>\n",
       "    <tr>\n",
       "      <th>4</th>\n",
       "      <td>AAPL</td>\n",
       "      <td>2025-04-25</td>\n",
       "      <td>44.20</td>\n",
       "      <td>180.0</td>\n",
       "      <td>13.0</td>\n",
       "      <td>24</td>\n",
       "      <td>0.509526</td>\n",
       "      <td>Call</td>\n",
       "    </tr>\n",
       "    <tr>\n",
       "      <th>...</th>\n",
       "      <td>...</td>\n",
       "      <td>...</td>\n",
       "      <td>...</td>\n",
       "      <td>...</td>\n",
       "      <td>...</td>\n",
       "      <td>...</td>\n",
       "      <td>...</td>\n",
       "      <td>...</td>\n",
       "    </tr>\n",
       "    <tr>\n",
       "      <th>386</th>\n",
       "      <td>AAPL</td>\n",
       "      <td>2027-12-17</td>\n",
       "      <td>29.76</td>\n",
       "      <td>265.0</td>\n",
       "      <td>25.0</td>\n",
       "      <td>646</td>\n",
       "      <td>0.308021</td>\n",
       "      <td>Call</td>\n",
       "    </tr>\n",
       "    <tr>\n",
       "      <th>387</th>\n",
       "      <td>AAPL</td>\n",
       "      <td>2027-12-17</td>\n",
       "      <td>28.85</td>\n",
       "      <td>270.0</td>\n",
       "      <td>9.0</td>\n",
       "      <td>1541</td>\n",
       "      <td>0.304374</td>\n",
       "      <td>Call</td>\n",
       "    </tr>\n",
       "    <tr>\n",
       "      <th>388</th>\n",
       "      <td>AAPL</td>\n",
       "      <td>2027-12-17</td>\n",
       "      <td>27.59</td>\n",
       "      <td>275.0</td>\n",
       "      <td>36.0</td>\n",
       "      <td>59</td>\n",
       "      <td>0.304466</td>\n",
       "      <td>Call</td>\n",
       "    </tr>\n",
       "    <tr>\n",
       "      <th>389</th>\n",
       "      <td>AAPL</td>\n",
       "      <td>2027-12-17</td>\n",
       "      <td>24.65</td>\n",
       "      <td>280.0</td>\n",
       "      <td>4.0</td>\n",
       "      <td>536</td>\n",
       "      <td>0.299568</td>\n",
       "      <td>Call</td>\n",
       "    </tr>\n",
       "    <tr>\n",
       "      <th>390</th>\n",
       "      <td>AAPL</td>\n",
       "      <td>2027-12-17</td>\n",
       "      <td>23.76</td>\n",
       "      <td>285.0</td>\n",
       "      <td>9.0</td>\n",
       "      <td>25</td>\n",
       "      <td>0.300956</td>\n",
       "      <td>Call</td>\n",
       "    </tr>\n",
       "  </tbody>\n",
       "</table>\n",
       "<p>391 rows × 8 columns</p>\n",
       "</div>"
      ],
      "text/plain": [
       "    Symbol  Expiration  Price  Strike  Volume  OpenInterest  \\\n",
       "0     AAPL  2025-04-25  60.55   160.0     6.0             9   \n",
       "1     AAPL  2025-04-25  59.25   165.0     2.0          8529   \n",
       "2     AAPL  2025-04-25  54.26   170.0     5.0            10   \n",
       "3     AAPL  2025-04-25  47.77   175.0     2.0            23   \n",
       "4     AAPL  2025-04-25  44.20   180.0    13.0            24   \n",
       "..     ...         ...    ...     ...     ...           ...   \n",
       "386   AAPL  2027-12-17  29.76   265.0    25.0           646   \n",
       "387   AAPL  2027-12-17  28.85   270.0     9.0          1541   \n",
       "388   AAPL  2027-12-17  27.59   275.0    36.0            59   \n",
       "389   AAPL  2027-12-17  24.65   280.0     4.0           536   \n",
       "390   AAPL  2027-12-17  23.76   285.0     9.0            25   \n",
       "\n",
       "     ImpliedVolatility  Type  \n",
       "0             0.732180  Call  \n",
       "1             0.632084  Call  \n",
       "2             0.586430  Call  \n",
       "3             0.522466  Call  \n",
       "4             0.509526  Call  \n",
       "..                 ...   ...  \n",
       "386           0.308021  Call  \n",
       "387           0.304374  Call  \n",
       "388           0.304466  Call  \n",
       "389           0.299568  Call  \n",
       "390           0.300956  Call  \n",
       "\n",
       "[391 rows x 8 columns]"
      ]
     },
     "execution_count": 12,
     "metadata": {},
     "output_type": "execute_result"
    }
   ],
   "source": [
    "# Uncomment the following line to compute implied volatility using `quand_forge`.\n",
    "# compute_implied_volatility(calls, spot_price, interest_rate=0.03)\n",
    "calls"
   ]
  },
  {
   "cell_type": "markdown",
   "metadata": {},
   "source": [
    "Easily plotting the implied volatility surface using the `plot_surface` function."
   ]
  },
  {
   "cell_type": "code",
   "execution_count": 11,
   "metadata": {},
   "outputs": [
    {
     "data": {
      "application/vnd.plotly.v1+json": {
       "config": {
        "plotlyServerURL": "https://plot.ly"
       },
       "data": [
        {
         "colorscale": [
          [
           0,
           "#440154"
          ],
          [
           0.1111111111111111,
           "#482878"
          ],
          [
           0.2222222222222222,
           "#3e4989"
          ],
          [
           0.3333333333333333,
           "#31688e"
          ],
          [
           0.4444444444444444,
           "#26828e"
          ],
          [
           0.5555555555555556,
           "#1f9e89"
          ],
          [
           0.6666666666666666,
           "#35b779"
          ],
          [
           0.7777777777777778,
           "#6ece58"
          ],
          [
           0.8888888888888888,
           "#b5de2b"
          ],
          [
           1,
           "#fde725"
          ]
         ],
         "showscale": false,
         "type": "surface",
         "x": {
          "bdata": "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",
          "dtype": "f8",
          "shape": "30, 30"
         },
         "y": {
          "bdata": "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",
          "dtype": "f8",
          "shape": "30, 30"
         },
         "z": {
          "bdata": "AAAAAAAA+H8AAAAAAAD4f8vTIbngUVBAh76GrKgHTkCnI6/QWXJLQDa7HeOaz0lADn6vU4mqSUCxE8ECweJIQNd2pTFum0VA5Qiyz2ePQ0Cuq5mAStJCQB/vVkmkXEFA9bebK7xGQEC9qt4XHVo+QJ3uBcxMRzxAQmX2x4aDOkAgOqGNkBI5QAbrALvQ9TdARCEBcHMyN0C83v6P0bA2QPh/DLd07jZA617A/AWEN0DPFxcRYnI4QFKgUr6NJjlAoXg0cb1zOkDH/0pKvDU8QCx1/YMT0D1AvdhLHsNCP0B9fXfE8k9AQN0kBoEVMEFAIk+WJmlNTUAKBqlFIgNMQNuwc0XgRktA25t5lsrYSUA6bzGkSAdJQFgrD4aF5EdA7vjIF6YuRkDex51RPUJFQOc9ZcCR90NAlJgBC38MQ0BiqwIP3y5CQP8X0RwreEFA1JL0DNu4QEBYzqaWY84/QMUfDjizrz5AIOGs8HajPUBtAGpr9G48QPBUijZcfDtAEjWfWLimOkDNHwnig+I5QOFr0oY9ezlAqTcHhbAfOUAE160cVgI5QGM8gUqzGjlA0bK8EMmNOUCpDR3TZ8M5QGMTNP3BPzpA1pZtdXYBO0AJWxqO26U7QBVfhPREdTxAkLxCt2ZISkA0ZQ+2WhRKQJ3K0yEZH0lAhL8o54bkR0BWFOCjCtJGQDt15JWDzEVAwA852CLTRECCuhfwMtdDQK/79Hu5HENAzi/jl/BdQkDM0n/+5bNBQIB81SkU60BAIfoacuxGQEC4FzD/0Uk/QPP91LgFPD5A4atONjc5PUAKpcftI1c8QKckUcvccDtACdKSedmcOkACBrNxWdE5QDpo3DeeRDlAyCXB6VfJOEB0kxiEAXI4QGiXoG5qTzhA2leE/n4VOEBpnVNg4yE4QLVYWNXJYThAdhylrl6POECan0wL+uY4QPM8udmPTTlA7Lsj9rJ8SUCkiavLVSlJQGIpxppS7UdAKPjWnC8FR0A+L6uIoftFQAhh0nWG/URA6sgrVHojREBtUWfh2oFDQB69ela+wUJAMZ5ABVoVQkD49d0RaHtBQF91svm140BA1ndH3AVUQEAHbTjZobk/QKmmiOnQoD5A+mRaYCqoPUAHWx9EUdM8QIKCiHuKBTxAltNs44tZO0ALc+sKlpY6QChPh6QE/TlAN+355TZ+OUD4kSXMdRE5QLe0GXTSsjhA03I2tWhqOED/XQXUVlY4QH7CDhdmMzhALf3nM0I9OEDR0d1D2D84QIO6F7A4cjhALncy93LZSECTyuJjyeJHQK1zCszrKEdA4YFkxKo0RkCuNCYrljlFQO916kh4hURAb2iWQwbRQ0AqDmn6STNDQEsQdn27k0JATKYKBr3rQUAzfn331VJBQLc1ucM/5UBAoPS4nSBwQEDSo3UT7/Q/QJiY/HRNDz9AUvQhjPAhPkBPsDEKHlQ9QKsNGH1TlzxA7WPRswHzO0A5+5nSzko7QPHL+PUExDpAtSDESio1OkCd+dPg8rs5QJWetHxEYjlAf7ocxjINOUDXiWUXlLk4QORUng4YkThAgOQGeHtpOEC1pdziKU04QEJ0PQWWTjhA6rzF4H9nSEC0UqX7kT5HQJ7vpxZAZkZAryFrO/2ZRUDQhpMf9exEQFaRBus3PURAi7F+pmSYQ0CiiavjOupCQOn6B4+DUEJAuKFehJ3MQUAMAitvVEtBQGOsn7Pvx0BAiVrOhq9qQEB1Z+8SoABAQCt6DktnGT9Ayv6ovxI/PkCQ7Xwv+IY9QJAlDIQQ0DxAicQ5ftcpPEAHCiK++oQ7QPWk4CtnEztA5FP8kwSCOkDFfRN8VRI6QCLCiy2lsjlAJo8NMIhQOUBVf+0VK/84QOx2jIMwtjhA7wt/kX94OEDMe882xFM4QHY1E3BEMjhAkgyeMrLGR0B2/YP7Dr5GQHfqyOt4H0ZA50ynR29URUAy4jX9sJ1EQCkqs7+f+0NAwenC2CJlQ0DOEMIkuN1CQFip0hEER0JA8jy5GbPQQUBoDhSkX11BQNAcKOgQ1kBAn2V54QNwQECTSuC4UQ9AQPgU/8RIVj9Al59MC0F/PkCcpF0CUc09QIF1gN2NLD1APG6PqdaQPEDzVIXgpfA7QKgvFXRCdTtAtlBhrmT1OkBFMniKEYM6QKxH4fpjHDpAdCP6mkO/OUBYIEYH1mo5QIHThXGIGTlA0dHdw8DXOEAZ6+dMyKk4QJEfWcJKdzhAmf1RX7oWR0AmiVqO1yVGQFwlV34MxUVAB5lhCsgURUCtQS4Jh15EQBjSeYsayUNANV66CVVBQ0CNM7ZML8BCQGUbHKJQWkJAkny8m9/PQUBcJVce3WxBQKgXSQ077kBAUy7wf6KCQEBGLMV4xDZAQGeXoC6RpD9A5QFdY+TRPkDXZIzc7i0+QB0OeHwymz1AsMLDzLwFPUAxTKE0vms8QKFdgnqz2ztAOrMmPM5wO0AABrOxUPY6QNd3R+x1jzpAX0mJqMQyOkBqLJP8ctk5QAAfIbPyiTlAk8cGIItPOUBIqesfVhU5QDSK41pM1jhAr0fhunubRkDDGv1AMxJGQHlN3/Z3VkVAL+mKqQXUREBSQauP3VlEQGGsn1MNukNAqFWLE+QhQ0C3MUD7yrJCQLXtSgNIM0JAkKIym0C3QUBryNoWY0tBQNiv1kBTC0FAyETivN+bQEDe325OAzdAQIExiwXctD9Avr474sAFP0D8WPRcc18+QPzt5qoawD1AbhHhhYk0PUCiGY3iIac8QHzCDteAJDxAcQqMmdatO0BRpWN15zU7QJKo5ay80zpAjQ7iZ/9yOkDz0k3ifBY6QNJB/GyTyTlAp4JWnziHOUAAtbW7dU45QBXdhSD+/zhAzczMjJZfRkAFe+Jxl8dFQJaO1XCLLUVAbFcaExnQREBiy8CGiUlEQI4g+9x+uENAgTc+1xMwQ0DfufjO98RCQAHgPNJHPEJA5mUVCbC+QUCBm/Y8llRBQF/+PsRZEUFAiTRYJ/y+QEADpwtTYlhAQHm3Su7O5T9AtUT7yrM2P0BOF8Zz5KY+QEdwurCFDD5AX9IV08aIPUDz0aun+QA9QDmBSrnQgTxA2/IpPuMHPEDVz5mOopQ7QPqQg1HJLTtAsS3RPhjOOkAWMSGapHg6QJHtfH8PKzpAT8x7jz7qOUDUfz4T4a05QJbyBCENXjlA6OdRDaopRkDR89rauH9FQMs2PYo8GkVAn/MbSQrBREAfDxWRWhdEQEtkT+dPhkNA5+dRjR8yQ0Du50eBwc9CQHTjeI1qSEJA3p/t4BLJQUAvEJ6V+19BQKAwwfp4GUFAyDtTx8fTQEARDyl9qXVAQF3D2FUDEEBAIcKL9fd0P0Ckrn+IjuU+QAbpwZvqWj5Aug8+LrDZPUD7ya96kVo9QP6Ddt3J3jxAngJeQNBiPECDAEeR0fc7QPtg4Zd0jztANO84RZMxO0CY8oigH9w6QKFdh9BmjjpAov+BvKlOOkDAXiha3Qw6QBgIhCEcvDlAx2pYLD4eRkC1lpqbhGJFQNPj9qjNAUVAnLcY0hulREC1V7aqpxhEQOGs8ACdh0NATtIuEQEhQ0B9XlZBkcVCQFwrCtCZTkJAEolzpH7mQUC+O2Jh03BBQGLee1YfOEFAJXxS6MXnQEDplk/tmYtAQDVL/8XzJUBAMeI1RX+zP0C0zinYFSQ/QHAqT6eVpD5AQ19DlvMfPkBBZpiyYqs9QC6LhZUcNj1AyGm2gS29PEDaC5j/ZFg8QANDU23R7ztA/Dgxb66OO0BhPIHKOjk7QBMSAGeS7TpAMqqmCIGtOkCD5kCBumU6QJsdAyIrGjpAp+1eS9ISRkCZOVpcUEVFQNuQsMde6URAIbfC/mKAREC0IWblcgVEQHbBe24dfENA+kJiz6oQQ0DFnnPuXLRCQLPgR1usSEJARnL5Z+oDQkBMZyYtq4FBQCOMNrLFVkFAv7tfBszvQEDcxMbboJxAQNPvXIR+SkBAd7dK3jj+P0Ajwyhi5Wc/QDcNuJ0T8j5AzK5I/jZmPkCIAoHqM/w9QF+SlE1vjT1ADXPmlCAZPUDalmMJM7g8QGDV7LA5TjxArDLsUbvsO0CluUgv5Zc7QCf97MmRTTtAwlTLVFgMO0D1DbREob06QB0zgiI6eDpAkzz5qYb7RUC/QDbKsihFQL0wQ88G0ERAKGb2UPNkREC70Jk3A+pDQGbLZdVucUNAr6fYjAsGQ0B6SjFAZqxCQKMW3zs8R0JAfkyuXgIYQkB2I0SYLpFBQKqhwT8haUFA2aeV/GD8QED1sPzRNalAQO3Qj/AcaUBA1jxY27odQEDT5Pye9Ks/QOcujNoiNj9AvLepvyasPkBoB4JBUEQ+QBt+JQMs2D1AfpjkiolpPUBKvGH/mwg9QOm+g/KSojxANByDkxRBPEBSSuVyNu47QNWNiQ3joztAz4ITL2JeO0A3ksktiA87QGwjhYETxTpAfcn7CuzTRUDhUwBhlxFFQKv9OIG9ukRAtypGkERWREBJlel2VNtDQF41MIuEbkNAC84oqkUDQ0CAAlCyILFCQKnO/a32S0JAL2XFiFcdQkAqOEyE3p5BQEPjiiWVckFAv6lNkTgPQUDbsrRmDbxAQIanjF+pfUBAbxNVSkcyQECZjutRD+M/QK3Yeo09bT9Aq7CU1ofpPkAWUXxPd4A+QJcLRgURFj5AUrIQIhmqPUAe1o2WK0k9QDHBoIUb6TxAex6gJp2HPEBzraYZPDc8QPfwSrTo7DtAxlCJs4ynO0AbxWSmMVk7QH/dbuZJ+jpAZ1b+a1GsRUAQ9g7BU/1EQPbKVqviokRARu+Vz5VHRECc/QN1z81DQFaf+kCaa0NAjvZffnMAQ0AqLzm2D69CQK+GHCCxUEJA333csqwiQkDdTFRwjqxBQOKRAWzjeUFApKsFJhAiQUAXO+ybnc9AQCF+ic41kkBACepRudNGQEDZ/5mcEg1AQHSCaUBYpD9AcotZJognP0DFmnZdnrw+QBKZZgf2Uz5AJcw8uajqPUCSK34y7Io9QHfDvRikLz1AwiC9uSXOPEAfawKrOYA8QBdUDFvuNTxA3z/+N3jvO0D/9/8e26I7QJKXWEuALztAUuMAzbaERUA+mB0hEOlEQEKYdNUHi0RA1bPlDuc4REDPqvAL/MZDQEVKb/OtZUNAhmAqNIn9QkCHVYnTSaxCQLY+O5JrVUJAjpbz3AEoQkCQYVxcPrpBQIFAeLIxgUFAiq29uuc0QUBCcguV0+NAQF0YXH+gpkBA70LuGRpeQEAwnSBpmyhAQDssWPNy2z9AOGYedohlP0Bz5HBrxfg+QI4mhwnbkT5A+eVoUDgrPkAGVD+HzMw9QEspVBgfdj1AqdzKTm4WPUCqM3u2CMk8QDi3zQH0fjxA9y5zvGM3PEDkKpuXhOw7QKVRQrC2ZDtAPXADLhxdRUBtOiyBzNREQI1lkv8sc0RACBaIIWskREABWN2iKMBDQHj3W4raXkNAf8r06Z76QkDje9nwg6lCQLz2WQQmWkJAP68KB1ctQkBDdmRI7sdBQCDv7vh/iEFAMA+ZSNJEQUBuqSqOCfhAQIhPe3jWukBAR+B05qJ5QECHOqc1JERAQM3pk7kmCkBA/0DjxYijP0AiLmt57DQ/QAq0pwvAzz5Azf+U58drPkB5fADcrA4+QL5RFW3/tz1ANKVDWj1fPUA2/PPB1xE9QGcfDTVHxzxAEB7oQE9/PEDIXTYQLjY8QLkLLBXtmTtAJ/0Fj4E1RUCc3DrhiMBEQNgysClSW0RAU+OlS5AMREA0Bco5VblDQKqkSCEHWENAeDS/n7T3QkBAoikOvqZCQO3hMc1nX0JA78chMawyQkCEiNMEpNRBQMCdZT/Oj0FAz70PjyBMQUCY4EmHPwxBQLOGmnEMz0BAnn37siuVQEDe1y0CrV9AQC9XduEmKUBAxRuoFYnhP0BTeACyR3E/QIVByA2lDT9AuQqQaQKqPkDspMEwjVA+QDF61sHf+T1AwG28ZQyoPUDAxGzNplo9QH4OgrkyDz1AJw1dxTrHPEBm9OLAUoo8QMvFFXojzztA4Xh9ZCMpRUAdd+7k2etEQFpM1DfaY0RAqWlNvfIDRECX0so4EcJDQPzpypLrakNAy9tr9EwZQ0A4s0qSdeRCQBshzmyMikJAn8gqLZshQkD5JrN6pu5BQCl2BLbyp0FAmlu8esRgQUBlIFH/PCNBQCEreUA66EBA9iCJ/jOrQEDjAYE5KmxAQHCaf+NxMEBATihhtJn2P0Cbmo4oso0/QPDV65VRNj9ASWwD2PDePkAXxfoidIs+QLckwRJ0OD5AN/+bAGLoPUAHZw7tdZo9QOBr/svjUj1A17kuIMcVPUDRqzxjQco8QN9//95ZBDxAdHmjCLUwRUAvZjomu+pEQDLBfeB6VURAgd72ZZP1Q0AhM0zxcLFDQMSYKtLnYUNAk4rLM0kQQ0BhxiY6k9dCQGvbDCGmhEJA/ovFLqEeQkAGqye7eehBQJKmTvuGoUFABZdlETldQUBdgjHSiCVBQBqNWROG6kBA74Jp0X+tQEDdY2EMdm5AQFGvzXdEOkBACKl+bh8FQECbKeAv06g/QEUArmKIUT9AnpbFpCf6PkBfD9r0v6o+QP5uoOS/Vz5Af0l70q0HPkBPse2+wbk9QKRulAVrdz1AC7S5eTI7PUDazE7/x/48QPE56UOQOTxACHrJrEY4RUBEEuv9GOREQAo2J4kbR0RApmZK2gjnQ0Cqk82p0KBDQItHihHkWENAWjkrc0UHQ0DrhSurAchCQJTu6MjDd0JAXU9gMKcbQkBw23EADuJBQPvWmEAbm0FACE8e0DNcQUDW1lM65iVBQBTvOebR7EBA6ORJpMuvQEB45HrRI3VAQDLEGwwXREBAn3WWpVgPQECbuDE39MM/QJkqcC+/bD9A8sCHcV4VP0AyvlbHUMg+QEa5f7YLdz5Ax5NapPkmPkDhYI0X09s9QItrzsZ0mj1AQK5E051gPUAOx9lYMyQ9QAT00qjGbjxAm3rvUNg/RUBZvpvVdt1EQOKq0DG8OERAfgmiMmjYQ0DJ6Xos+pBDQM/e5fFBSUNA4wEKD5L8QkDJPJgh2bdCQL0BxXDhakJAuxL7Ma0YQkDZC7xFottBQLLaKkQ+l0FADAfXji5bQUDajgz54CRBQAxRGrkd70BA4UYqdxeyQEBZ+chl9n5AQBPZaaDpTUBAHj0/KekcQECaR4M+Fd8/QK4tWlThhz9AR+tJPpUwP0CG6BiUh+M+QI0DX4hXlj5ADt45dkVGPkDIXcfY3P49QHJoCIh+vT1A324lBUmFPUBDwWSynkk9QBeuvA39ozxALnsV9WlHRUBuakyt1NZEQHwUJbLMLURAV6z5isfJQ0CijNKEWYJDQFk/Z6qhOENAwbh2hWnsQkCm8wSYsKdCQOYUoRj/XUJAGdaVM7MVQkBCPAaLNtVBQLaS4wI5lkFAD7+PTSlaQUDdRsW32yNBQBp3Ejut70BAIh18i1O4QEA7Dhf6yIhAQMBWVVHqV0BAnwTorHkqQECa1tRFNvo/QK68q1sCoz9AmxUMC8xLP0DbEttgvv4+QI1lgAQmtD5AuD6tSB5oPkCvWgGa5iE+QFllQkmI4D1AxmtfxlKoPUB3u+8LCm89QCtopnIz2TxAVmVFQro8RUAY5VsAWMlEQKiwMDtOMURA0uZJHj3JQ0D/q69k7oBDQMthaEYCN0NAFinTvgbrQkBTzyV5gp5CQNTaYWR6XUJAL7SChhYVQkCTnAoagtRBQB6izCxtl0FAd854d11bQUA5pIdBbiVBQHbU1MQ/8UBApe0IkAzFQEC/3qP+gZVAQOuvsNuwZ0BAyl1DN0A6QECaUI8dlglAQEegSQRVwj9AXIYgGiFrP0BnHu3Q8hg/QBpxknRazj5A820AqcGEPkDqiVT6iT4+QJd7pSGqAT5ABILCnnTJPUCstXpldZQ9QD4ikNdpDj1AW38Dp1MfRUCXfUCr1LREQPFfgcI0P0RAHJaapSPXQ0BiqPjdDY1DQLBUM2bERENA+xue3sj4QkC+EvS1e5xCQFFGjPeiaUJA+CyOVV8VQkDGibrCqdlBQLcpGRXpmkFAkF3cGyFfQUDgSFJJqSlBQB15n8x69UBAYAdSsr7UQEB6+OwgNKVAQKOAi6YVeEBA/BurBUtMQEDeJdgK8hBAQGZ4plD05T9AiU7M7nuHP0C7X2RkHjI/QG6yCQiG5z5Awe3acNWaPkC5CS/CnVQ+QHgU78rXID5A5hoMSKLoPUDT66hviqk9QFHceTygQz1AX5nBC+0BRUAXFiVWUaBEQDsP0kkbTURAsy1cb97YQ0DHpEFXLZlDQJZH/oWGUkNA4Q5p/ooGQ0ApVsLydJpCQM+xtorLdUJAwKWZJKgVQkD5dmpr0d5BQFCxZf1knkFAw0qMxEhkQUCH7RxR5C1BQMFHlKAx+kBAAVHJeZHkQEA1EjZD5rRAQELA9gBMgEBALdoS1FVeQEAj+yD4TRhAQEGogc7JBEBACNjQa8+dP0APodv3SUs/QPa2YUkI/z5AkW21OOmwPkCJiQmKsWo+QDiYIc6uNj5AxrNV8c8HPkBFNkalTr09QGSWY6HWeD1AY7N/cIbkRECXrgkBzotEQIW+ItEBW0RAfYR+FlfXQ0C19FG1kaFDQGdtH07oXkNAOrguSfoSQ0CUmZAvbphCQEsd4R30gUJAiR6l8/AVQkAtZBoU+eNBQOk4suXgoUFA9jc8bXBpQUAtkudYHzJBQEwBE/D+DUFAjApIyV74QEDxK39lmMRAQOD/YVuCiEBAYJh6omBwQEBo0GnlqR9AQFEUsHSZFkBAhmHV6CK0P0Bk4lKLdWQ/QB9/dVYmFD9AWV9nvlzGPkDDVhnNBYA+QH6tLc0FSj5Apkyfmv0mPkC3gOPaEtE9QHZQTQYNrj1AaM091R/HREAWR+6rSndEQG9UeYM0ZERARtugvc/VQ0B/S3RcCqBDQMtpaMcHa0NApfv8hfMQQ0B9LK56t51CQMmIC7EcjkJAUpewwjkWQkBfUcq8IOlBQILA/s1cpUFAKSXsFZhuQUCYC0YFLjdBQNe6kT/MIUFAF8TGGCwMQUDR3n0Jmc1AQIA/zbW4kEBAklbicGuCQECtpbLSBSdAQGCA3hppKEBABevZZXbKP0B9zk3FKXw/QEpHiWNEKT9Agyd7y3rbPkAJbCXMXJM+QMPCOcxcXT5AcjWID5xEPkAqy4AQ1+Q9QIoKN2tD4z1AbOf7ObmpREBHvKY/ul1EQO7sXS6xT0RAETLDZEjUQ0BJopYDg55DQC9msUAnd0NAED/LwuwOQ0D6l9gN4KlCQC4uIvwFj0JAGhC8kYIWQkBg3x0xXO1BQItNxtgcqkFAWxKcvr9zQUDL+PWtVTxBQGJ0EI+ZNUFAoX1FaPkfQUBvHuljz9VAQB5/OBDvmEBA1Omp2l2MQEDxevu/YS5AQNR+nPhCNkBAhXTe4sngP0D8V1JCfZI/QHUPnXBiPj9Aru+O2JjwPkBOgTHLs6Y+QAjYRcuzcD5A438lRWBYPkCbFR5Gm/g9QJ3EINB5GD5A",
          "dtype": "f8",
          "shape": "30, 30"
         }
        }
       ],
       "layout": {
        "height": 800,
        "scene": {
         "xaxis": {
          "title": {
           "text": "Moneyness"
          }
         },
         "yaxis": {
          "title": {
           "text": "Time to Maturity (years)"
          }
         },
         "zaxis": {
          "title": {
           "text": "Implied Volatility (%)"
          }
         }
        },
        "template": {
         "data": {
          "bar": [
           {
            "error_x": {
             "color": "#2a3f5f"
            },
            "error_y": {
             "color": "#2a3f5f"
            },
            "marker": {
             "line": {
              "color": "#E5ECF6",
              "width": 0.5
             },
             "pattern": {
              "fillmode": "overlay",
              "size": 10,
              "solidity": 0.2
             }
            },
            "type": "bar"
           }
          ],
          "barpolar": [
           {
            "marker": {
             "line": {
              "color": "#E5ECF6",
              "width": 0.5
             },
             "pattern": {
              "fillmode": "overlay",
              "size": 10,
              "solidity": 0.2
             }
            },
            "type": "barpolar"
           }
          ],
          "carpet": [
           {
            "aaxis": {
             "endlinecolor": "#2a3f5f",
             "gridcolor": "white",
             "linecolor": "white",
             "minorgridcolor": "white",
             "startlinecolor": "#2a3f5f"
            },
            "baxis": {
             "endlinecolor": "#2a3f5f",
             "gridcolor": "white",
             "linecolor": "white",
             "minorgridcolor": "white",
             "startlinecolor": "#2a3f5f"
            },
            "type": "carpet"
           }
          ],
          "choropleth": [
           {
            "colorbar": {
             "outlinewidth": 0,
             "ticks": ""
            },
            "type": "choropleth"
           }
          ],
          "contour": [
           {
            "colorbar": {
             "outlinewidth": 0,
             "ticks": ""
            },
            "colorscale": [
             [
              0,
              "#0d0887"
             ],
             [
              0.1111111111111111,
              "#46039f"
             ],
             [
              0.2222222222222222,
              "#7201a8"
             ],
             [
              0.3333333333333333,
              "#9c179e"
             ],
             [
              0.4444444444444444,
              "#bd3786"
             ],
             [
              0.5555555555555556,
              "#d8576b"
             ],
             [
              0.6666666666666666,
              "#ed7953"
             ],
             [
              0.7777777777777778,
              "#fb9f3a"
             ],
             [
              0.8888888888888888,
              "#fdca26"
             ],
             [
              1,
              "#f0f921"
             ]
            ],
            "type": "contour"
           }
          ],
          "contourcarpet": [
           {
            "colorbar": {
             "outlinewidth": 0,
             "ticks": ""
            },
            "type": "contourcarpet"
           }
          ],
          "heatmap": [
           {
            "colorbar": {
             "outlinewidth": 0,
             "ticks": ""
            },
            "colorscale": [
             [
              0,
              "#0d0887"
             ],
             [
              0.1111111111111111,
              "#46039f"
             ],
             [
              0.2222222222222222,
              "#7201a8"
             ],
             [
              0.3333333333333333,
              "#9c179e"
             ],
             [
              0.4444444444444444,
              "#bd3786"
             ],
             [
              0.5555555555555556,
              "#d8576b"
             ],
             [
              0.6666666666666666,
              "#ed7953"
             ],
             [
              0.7777777777777778,
              "#fb9f3a"
             ],
             [
              0.8888888888888888,
              "#fdca26"
             ],
             [
              1,
              "#f0f921"
             ]
            ],
            "type": "heatmap"
           }
          ],
          "histogram": [
           {
            "marker": {
             "pattern": {
              "fillmode": "overlay",
              "size": 10,
              "solidity": 0.2
             }
            },
            "type": "histogram"
           }
          ],
          "histogram2d": [
           {
            "colorbar": {
             "outlinewidth": 0,
             "ticks": ""
            },
            "colorscale": [
             [
              0,
              "#0d0887"
             ],
             [
              0.1111111111111111,
              "#46039f"
             ],
             [
              0.2222222222222222,
              "#7201a8"
             ],
             [
              0.3333333333333333,
              "#9c179e"
             ],
             [
              0.4444444444444444,
              "#bd3786"
             ],
             [
              0.5555555555555556,
              "#d8576b"
             ],
             [
              0.6666666666666666,
              "#ed7953"
             ],
             [
              0.7777777777777778,
              "#fb9f3a"
             ],
             [
              0.8888888888888888,
              "#fdca26"
             ],
             [
              1,
              "#f0f921"
             ]
            ],
            "type": "histogram2d"
           }
          ],
          "histogram2dcontour": [
           {
            "colorbar": {
             "outlinewidth": 0,
             "ticks": ""
            },
            "colorscale": [
             [
              0,
              "#0d0887"
             ],
             [
              0.1111111111111111,
              "#46039f"
             ],
             [
              0.2222222222222222,
              "#7201a8"
             ],
             [
              0.3333333333333333,
              "#9c179e"
             ],
             [
              0.4444444444444444,
              "#bd3786"
             ],
             [
              0.5555555555555556,
              "#d8576b"
             ],
             [
              0.6666666666666666,
              "#ed7953"
             ],
             [
              0.7777777777777778,
              "#fb9f3a"
             ],
             [
              0.8888888888888888,
              "#fdca26"
             ],
             [
              1,
              "#f0f921"
             ]
            ],
            "type": "histogram2dcontour"
           }
          ],
          "mesh3d": [
           {
            "colorbar": {
             "outlinewidth": 0,
             "ticks": ""
            },
            "type": "mesh3d"
           }
          ],
          "parcoords": [
           {
            "line": {
             "colorbar": {
              "outlinewidth": 0,
              "ticks": ""
             }
            },
            "type": "parcoords"
           }
          ],
          "pie": [
           {
            "automargin": true,
            "type": "pie"
           }
          ],
          "scatter": [
           {
            "fillpattern": {
             "fillmode": "overlay",
             "size": 10,
             "solidity": 0.2
            },
            "type": "scatter"
           }
          ],
          "scatter3d": [
           {
            "line": {
             "colorbar": {
              "outlinewidth": 0,
              "ticks": ""
             }
            },
            "marker": {
             "colorbar": {
              "outlinewidth": 0,
              "ticks": ""
             }
            },
            "type": "scatter3d"
           }
          ],
          "scattercarpet": [
           {
            "marker": {
             "colorbar": {
              "outlinewidth": 0,
              "ticks": ""
             }
            },
            "type": "scattercarpet"
           }
          ],
          "scattergeo": [
           {
            "marker": {
             "colorbar": {
              "outlinewidth": 0,
              "ticks": ""
             }
            },
            "type": "scattergeo"
           }
          ],
          "scattergl": [
           {
            "marker": {
             "colorbar": {
              "outlinewidth": 0,
              "ticks": ""
             }
            },
            "type": "scattergl"
           }
          ],
          "scattermap": [
           {
            "marker": {
             "colorbar": {
              "outlinewidth": 0,
              "ticks": ""
             }
            },
            "type": "scattermap"
           }
          ],
          "scattermapbox": [
           {
            "marker": {
             "colorbar": {
              "outlinewidth": 0,
              "ticks": ""
             }
            },
            "type": "scattermapbox"
           }
          ],
          "scatterpolar": [
           {
            "marker": {
             "colorbar": {
              "outlinewidth": 0,
              "ticks": ""
             }
            },
            "type": "scatterpolar"
           }
          ],
          "scatterpolargl": [
           {
            "marker": {
             "colorbar": {
              "outlinewidth": 0,
              "ticks": ""
             }
            },
            "type": "scatterpolargl"
           }
          ],
          "scatterternary": [
           {
            "marker": {
             "colorbar": {
              "outlinewidth": 0,
              "ticks": ""
             }
            },
            "type": "scatterternary"
           }
          ],
          "surface": [
           {
            "colorbar": {
             "outlinewidth": 0,
             "ticks": ""
            },
            "colorscale": [
             [
              0,
              "#0d0887"
             ],
             [
              0.1111111111111111,
              "#46039f"
             ],
             [
              0.2222222222222222,
              "#7201a8"
             ],
             [
              0.3333333333333333,
              "#9c179e"
             ],
             [
              0.4444444444444444,
              "#bd3786"
             ],
             [
              0.5555555555555556,
              "#d8576b"
             ],
             [
              0.6666666666666666,
              "#ed7953"
             ],
             [
              0.7777777777777778,
              "#fb9f3a"
             ],
             [
              0.8888888888888888,
              "#fdca26"
             ],
             [
              1,
              "#f0f921"
             ]
            ],
            "type": "surface"
           }
          ],
          "table": [
           {
            "cells": {
             "fill": {
              "color": "#EBF0F8"
             },
             "line": {
              "color": "white"
             }
            },
            "header": {
             "fill": {
              "color": "#C8D4E3"
             },
             "line": {
              "color": "white"
             }
            },
            "type": "table"
           }
          ]
         },
         "layout": {
          "annotationdefaults": {
           "arrowcolor": "#2a3f5f",
           "arrowhead": 0,
           "arrowwidth": 1
          },
          "autotypenumbers": "strict",
          "coloraxis": {
           "colorbar": {
            "outlinewidth": 0,
            "ticks": ""
           }
          },
          "colorscale": {
           "diverging": [
            [
             0,
             "#8e0152"
            ],
            [
             0.1,
             "#c51b7d"
            ],
            [
             0.2,
             "#de77ae"
            ],
            [
             0.3,
             "#f1b6da"
            ],
            [
             0.4,
             "#fde0ef"
            ],
            [
             0.5,
             "#f7f7f7"
            ],
            [
             0.6,
             "#e6f5d0"
            ],
            [
             0.7,
             "#b8e186"
            ],
            [
             0.8,
             "#7fbc41"
            ],
            [
             0.9,
             "#4d9221"
            ],
            [
             1,
             "#276419"
            ]
           ],
           "sequential": [
            [
             0,
             "#0d0887"
            ],
            [
             0.1111111111111111,
             "#46039f"
            ],
            [
             0.2222222222222222,
             "#7201a8"
            ],
            [
             0.3333333333333333,
             "#9c179e"
            ],
            [
             0.4444444444444444,
             "#bd3786"
            ],
            [
             0.5555555555555556,
             "#d8576b"
            ],
            [
             0.6666666666666666,
             "#ed7953"
            ],
            [
             0.7777777777777778,
             "#fb9f3a"
            ],
            [
             0.8888888888888888,
             "#fdca26"
            ],
            [
             1,
             "#f0f921"
            ]
           ],
           "sequentialminus": [
            [
             0,
             "#0d0887"
            ],
            [
             0.1111111111111111,
             "#46039f"
            ],
            [
             0.2222222222222222,
             "#7201a8"
            ],
            [
             0.3333333333333333,
             "#9c179e"
            ],
            [
             0.4444444444444444,
             "#bd3786"
            ],
            [
             0.5555555555555556,
             "#d8576b"
            ],
            [
             0.6666666666666666,
             "#ed7953"
            ],
            [
             0.7777777777777778,
             "#fb9f3a"
            ],
            [
             0.8888888888888888,
             "#fdca26"
            ],
            [
             1,
             "#f0f921"
            ]
           ]
          },
          "colorway": [
           "#636efa",
           "#EF553B",
           "#00cc96",
           "#ab63fa",
           "#FFA15A",
           "#19d3f3",
           "#FF6692",
           "#B6E880",
           "#FF97FF",
           "#FECB52"
          ],
          "font": {
           "color": "#2a3f5f"
          },
          "geo": {
           "bgcolor": "white",
           "lakecolor": "white",
           "landcolor": "#E5ECF6",
           "showlakes": true,
           "showland": true,
           "subunitcolor": "white"
          },
          "hoverlabel": {
           "align": "left"
          },
          "hovermode": "closest",
          "mapbox": {
           "style": "light"
          },
          "paper_bgcolor": "white",
          "plot_bgcolor": "#E5ECF6",
          "polar": {
           "angularaxis": {
            "gridcolor": "white",
            "linecolor": "white",
            "ticks": ""
           },
           "bgcolor": "#E5ECF6",
           "radialaxis": {
            "gridcolor": "white",
            "linecolor": "white",
            "ticks": ""
           }
          },
          "scene": {
           "xaxis": {
            "backgroundcolor": "#E5ECF6",
            "gridcolor": "white",
            "gridwidth": 2,
            "linecolor": "white",
            "showbackground": true,
            "ticks": "",
            "zerolinecolor": "white"
           },
           "yaxis": {
            "backgroundcolor": "#E5ECF6",
            "gridcolor": "white",
            "gridwidth": 2,
            "linecolor": "white",
            "showbackground": true,
            "ticks": "",
            "zerolinecolor": "white"
           },
           "zaxis": {
            "backgroundcolor": "#E5ECF6",
            "gridcolor": "white",
            "gridwidth": 2,
            "linecolor": "white",
            "showbackground": true,
            "ticks": "",
            "zerolinecolor": "white"
           }
          },
          "shapedefaults": {
           "line": {
            "color": "#2a3f5f"
           }
          },
          "ternary": {
           "aaxis": {
            "gridcolor": "white",
            "linecolor": "white",
            "ticks": ""
           },
           "baxis": {
            "gridcolor": "white",
            "linecolor": "white",
            "ticks": ""
           },
           "bgcolor": "#E5ECF6",
           "caxis": {
            "gridcolor": "white",
            "linecolor": "white",
            "ticks": ""
           }
          },
          "title": {
           "x": 0.05
          },
          "xaxis": {
           "automargin": true,
           "gridcolor": "white",
           "linecolor": "white",
           "ticks": "",
           "title": {
            "standoff": 15
           },
           "zerolinecolor": "white",
           "zerolinewidth": 2
          },
          "yaxis": {
           "automargin": true,
           "gridcolor": "white",
           "linecolor": "white",
           "ticks": "",
           "title": {
            "standoff": 15
           },
           "zerolinecolor": "white",
           "zerolinewidth": 2
          }
         }
        },
        "title": {
         "text": "Implied Volatility Surface for AAPL"
        }
       }
      }
     },
     "metadata": {},
     "output_type": "display_data"
    }
   ],
   "source": [
    "fig = plot_surface(calls, spot_price)\n",
    "fig.update_layout(height=800)\n",
    "fig.show()"
   ]
  }
 ],
 "metadata": {
  "kernelspec": {
   "display_name": ".venv",
   "language": "python",
   "name": "python3"
  },
  "language_info": {
   "codemirror_mode": {
    "name": "ipython",
    "version": 3
   },
   "file_extension": ".py",
   "mimetype": "text/x-python",
   "name": "python",
   "nbconvert_exporter": "python",
   "pygments_lexer": "ipython3",
   "version": "3.13.2"
  }
 },
 "nbformat": 4,
 "nbformat_minor": 2
}
